{
 "cells": [
  {
   "cell_type": "markdown",
   "metadata": {},
   "source": [
    "## Aim?\n",
    "#### It is to "
   ]
  },
  {
   "cell_type": "code",
   "execution_count": 2,
   "metadata": {},
   "outputs": [],
   "source": [
    "from bs4 import BeautifulSoup\n",
    "import requests"
   ]
  },
  {
   "cell_type": "markdown",
   "metadata": {},
   "source": [
    "# Scrapping price from flipkart website"
   ]
  },
  {
   "cell_type": "code",
   "execution_count": 15,
   "metadata": {},
   "outputs": [],
   "source": [
    "res=requests.get('https://www.flipkart.com/nerf-disruptor-n-strike-elite-blaster/p/itmet5xxecsejwqw?pid=TWPET5XXDFDSGMRY&lid=LSTTWPET5XXDFDSGMRYKCN9UW&marketplace=FLIPKART&spotlightTagId=BestsellerId_mgl%2Fgsh&srno=s_1_1&otracker=search&iid=afb6976d-13af-4ca6-a39a-687d4161d51f.TWPET5XXDFDSGMRY.SEARCH&ppt=sp&ppn=sp&qH=5161ebb0cce4b798')\n",
    "res.raise_for_status()\n",
    "soup=BeautifulSoup(res.text,'html.parser')\n",
    "element=soup.select('#container > div > div.t-0M7P._3GgMx1._2doH3V > div._3e7xtJ > div._1HmYoV.hCUpcT > div._1HmYoV._35HD7C.col-8-12 > div:nth-child(2) > div > div._3iZgFn > div._2i1QSc > div > div._1vC4OE._3qQ9m1')\n",
    "price=element[0].text\n",
    "print(price)"
   ]
  },
  {
   "cell_type": "code",
   "execution_count": 21,
   "metadata": {},
   "outputs": [],
   "source": [
    "def Scrapping_price_flipkart(product_url):\n",
    "    res=requests.get(product_url)\n",
    "    res.raise_for_status()\n",
    "    soup=BeautifulSoup(res.text,'html.parser')\n",
    "    element=soup.select('#container > div > div.t-0M7P._3GgMx1._2doH3V > div._3e7xtJ > div._1HmYoV.hCUpcT > div._1HmYoV._35HD7C.col-8-12 > div:nth-child(2) > div > div._3iZgFn > div._2i1QSc > div > div._1vC4OE._3qQ9m1')\n",
    "    price=element[0].text\n",
    "    return price"
   ]
  },
  {
   "cell_type": "code",
   "execution_count": 22,
   "metadata": {},
   "outputs": [
    {
     "data": {
      "text/plain": [
       "'₹480'"
      ]
     },
     "execution_count": 22,
     "metadata": {},
     "output_type": "execute_result"
    }
   ],
   "source": [
    "Scrapping_price_flipkart('https://www.flipkart.com/try-solid-men-polo-neck-black-white-t-shirt/p/itmf8ugpymyhdncp?pid=TSHF8UEUAJKDK2WU&lid=LSTTSHF8UEUAJKDK2WUJKWD8X&marketplace=FLIPKART&srno=b_1_1&otracker=nmenu_sub_Men_0_T-Shirts&fm=organic&iid=5f42b238-e409-47a1-9b58-c5e4dcc3ac48.TSHF8UEUAJKDK2WU.SEARCH&ppt=browse&ppn=browse&ssid=fvo8vagr340000001561312635889')"
   ]
  },
  {
   "cell_type": "code",
   "execution_count": null,
   "metadata": {},
   "outputs": [],
   "source": []
  }
 ],
 "metadata": {
  "kernelspec": {
   "display_name": "Python 3",
   "language": "python",
   "name": "python3"
  },
  "language_info": {
   "codemirror_mode": {
    "name": "ipython",
    "version": 3
   },
   "file_extension": ".py",
   "mimetype": "text/x-python",
   "name": "python",
   "nbconvert_exporter": "python",
   "pygments_lexer": "ipython3",
   "version": "3.6.4"
  }
 },
 "nbformat": 4,
 "nbformat_minor": 2
}
