{
 "cells": [
  {
   "cell_type": "markdown",
   "metadata": {},
   "source": [
    "## The Aim?\n",
    "#### Is to google search for a certain keyword and return the web address of the resultant web-page"
   ]
  },
  {
   "cell_type": "code",
   "execution_count": 1,
   "metadata": {},
   "outputs": [],
   "source": [
    "from selenium import webdriver"
   ]
  },
  {
   "cell_type": "code",
   "execution_count": 13,
   "metadata": {},
   "outputs": [
    {
     "name": "stdin",
     "output_type": "stream",
     "text": [
      "Input the keyword: disney\n"
     ]
    }
   ],
   "source": [
    "#executable_path=\"C:/Users/BijitAcharyya/Desktop/Vacation/To-Do/Web-Crawling/chromedriver.exe\"\n",
    "browser=webdriver.Chrome(executable_path=\"C:/Users/BijitAcharyya/Desktop/Vacation/To-Do/Web-Crawling/chromedriver.exe\")\n",
    "\n",
    "#input the keyword that is to be searched\n",
    "keyword=input(\"Input the keyword:\")"
   ]
  },
  {
   "cell_type": "code",
   "execution_count": 14,
   "metadata": {},
   "outputs": [],
   "source": [
    "#first step is to navigate to google images\n",
    "url1a=\"https://images.google.com/\"\n",
    "browser.get(url1a)"
   ]
  },
  {
   "cell_type": "code",
   "execution_count": 15,
   "metadata": {},
   "outputs": [],
   "source": [
    "#sending the keyword to the search field\n",
    "search=browser.find_element_by_css_selector(\"#sbtc > div > div.a4bIc > input\")\n",
    "search.send_keys(keyword)\n",
    "\n",
    "search_button=browser.find_element_by_css_selector(\"#sbtc > button\")\n",
    "search_button.click()"
   ]
  },
  {
   "cell_type": "code",
   "execution_count": 16,
   "metadata": {},
   "outputs": [
    {
     "name": "stdout",
     "output_type": "stream",
     "text": [
      "https://www.google.com/search?tbm=isch&source=hp&biw=1034&bih=616&ei=Ws0QXb7-DpH-rQGQvZvoBA&q=disney&oq=disney&gs_l=img.12...6985.7030..7126...0.0..0.0.0.......0....1..gws-wiz-img.....0.\n"
     ]
    }
   ],
   "source": [
    "url=browser.current_url\n",
    "print(url)"
   ]
  },
  {
   "cell_type": "code",
   "execution_count": null,
   "metadata": {},
   "outputs": [],
   "source": []
  }
 ],
 "metadata": {
  "kernelspec": {
   "display_name": "Python 3",
   "language": "python",
   "name": "python3"
  },
  "language_info": {
   "codemirror_mode": {
    "name": "ipython",
    "version": 3
   },
   "file_extension": ".py",
   "mimetype": "text/x-python",
   "name": "python",
   "nbconvert_exporter": "python",
   "pygments_lexer": "ipython3",
   "version": "3.6.4"
  }
 },
 "nbformat": 4,
 "nbformat_minor": 2
}
